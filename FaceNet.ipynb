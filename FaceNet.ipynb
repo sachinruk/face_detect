{
 "cells": [
  {
   "cell_type": "code",
   "execution_count": 1,
   "metadata": {},
   "outputs": [
    {
     "name": "stderr",
     "output_type": "stream",
     "text": [
      "/Users/sachin/miniconda3/lib/python3.6/site-packages/h5py/__init__.py:36: FutureWarning: Conversion of the second argument of issubdtype from `float` to `np.floating` is deprecated. In future, it will be treated as `np.float64 == np.dtype(float).type`.\n",
      "  from ._conv import register_converters as _register_converters\n"
     ]
    }
   ],
   "source": [
    "import numpy as np\n",
    "import matplotlib.pyplot as plt\n",
    "from collections import Counter\n",
    "\n",
    "import cv2\n",
    "\n",
    "import tensorflow as tf\n",
    "from sklearn.decomposition import PCA\n",
    "\n",
    "import glob\n",
    "import os\n",
    "\n",
    "%matplotlib inline"
   ]
  },
  {
   "cell_type": "code",
   "execution_count": 2,
   "metadata": {},
   "outputs": [],
   "source": [
    "files = glob.glob('./data/**/*.npy')\n",
    "im_files = glob.glob('./data/**/*.png')\n",
    "labels = [f.split('/')[2] for f in files]\n",
    "\n",
    "u_labels = set(labels)\n",
    "label_dict = dict(zip(u_labels, range(len(u_labels))))\n",
    "reverse_dict = dict(zip(label_dict.values(), label_dict.keys()))\n",
    "num_labels = [label_dict[l] for l in labels]\n",
    "\n",
    "num_labels = np.array(num_labels)\n",
    "labels = np.array(labels)\n",
    "len_data = len(labels)"
   ]
  },
  {
   "cell_type": "code",
   "execution_count": 3,
   "metadata": {},
   "outputs": [],
   "source": [
    "images = np.zeros((len_data, 80, 80, 3), dtype=np.int32)\n",
    "for i, f in enumerate(im_files):\n",
    "    images[i] = cv2.resize(cv2.imread(f), (80, 80))"
   ]
  },
  {
   "cell_type": "markdown",
   "metadata": {},
   "source": [
    "Label imbalance:"
   ]
  },
  {
   "cell_type": "code",
   "execution_count": 4,
   "metadata": {},
   "outputs": [
    {
     "data": {
      "text/plain": [
       "[('George_W_Bush', 530),\n",
       " ('Colin_Powell', 236),\n",
       " ('Tony_Blair', 144),\n",
       " ('Donald_Rumsfeld', 121),\n",
       " ('Gerhard_Schroeder', 109),\n",
       " ('Ariel_Sharon', 77),\n",
       " ('Hugo_Chavez', 71),\n",
       " ('Junichiro_Koizumi', 60),\n",
       " ('Jean_Chretien', 55),\n",
       " ('John_Ashcroft', 53)]"
      ]
     },
     "execution_count": 4,
     "metadata": {},
     "output_type": "execute_result"
    }
   ],
   "source": [
    "top10 = Counter(labels).most_common()[:10]\n",
    "top10"
   ]
  },
  {
   "cell_type": "code",
   "execution_count": 5,
   "metadata": {},
   "outputs": [
    {
     "data": {
      "text/plain": [
       "(4324, 128)"
      ]
     },
     "execution_count": 5,
     "metadata": {},
     "output_type": "execute_result"
    }
   ],
   "source": [
    "embeds = []\n",
    "for f in files:\n",
    "    embeds.append(np.load(f))\n",
    "embeds = np.array(embeds)\n",
    "embeds.shape"
   ]
  },
  {
   "cell_type": "markdown",
   "metadata": {},
   "source": [
    "The embeds seem to be all unit vectors:"
   ]
  },
  {
   "cell_type": "code",
   "execution_count": 6,
   "metadata": {},
   "outputs": [
    {
     "data": {
      "text/plain": [
       "array([0.9999999 , 0.99999994, 1.        , ..., 1.0000001 , 1.        ,\n",
       "       1.        ], dtype=float32)"
      ]
     },
     "execution_count": 6,
     "metadata": {},
     "output_type": "execute_result"
    }
   ],
   "source": [
    "np.sum(np.square(embeds),axis=-1)"
   ]
  },
  {
   "cell_type": "markdown",
   "metadata": {},
   "source": [
    "## Using Cosine Distance to determine closest face:"
   ]
  },
  {
   "cell_type": "code",
   "execution_count": 7,
   "metadata": {},
   "outputs": [],
   "source": [
    "def min_dist(query, db, nlargest=5):\n",
    "    cosine_dist = db.dot(query)\n",
    "    ind = np.argpartition(cosine_dist, -nlargest)[-nlargest:]\n",
    "    ind = ind[np.argsort(-cosine_dist[ind])]\n",
    "    return ind, cosine_dist[ind]"
   ]
  },
  {
   "cell_type": "code",
   "execution_count": 8,
   "metadata": {},
   "outputs": [
    {
     "name": "stdout",
     "output_type": "stream",
     "text": [
      "Closest to Jennifer_Lopez is:\n",
      "['Spencer_Abraham' 'Angelina_Jolie' 'Rubens_Barrichello' 'Colin_Powell']\n",
      "[0.9723202  0.9713911  0.9705596  0.96977764] \n",
      "\n",
      "Closest to Taha_Yassin_Ramadan is:\n",
      "['Donald_Rumsfeld' 'Luiz_Inacio_Lula_da_Silva' 'Taha_Yassin_Ramadan'\n",
      " 'Alvaro_Uribe']\n",
      "[0.96856344 0.96803224 0.96759176 0.96754295] \n",
      "\n",
      "Closest to George_W_Bush is:\n",
      "['George_W_Bush' 'Kofi_Annan' 'Jiri_Novak' 'George_W_Bush']\n",
      "[0.9759343  0.9758147  0.9747567  0.97084564] \n",
      "\n",
      "Closest to Jennifer_Aniston is:\n",
      "['Laura_Bush' 'George_Robertson' 'Hugo_Chavez' 'Jennifer_Aniston']\n",
      "[0.9582245  0.9498062  0.94965684 0.94822466] \n",
      "\n",
      "Closest to Jeb_Bush is:\n",
      "['Jean_Chretien' 'Gerhard_Schroeder' 'John_Kerry' 'Tony_Blair']\n",
      "[0.98040605 0.9800684  0.9790617  0.9783022 ] \n",
      "\n"
     ]
    }
   ],
   "source": [
    "for i in np.random.choice(len(labels), 5, replace=False):\n",
    "    print('Closest to', labels[i], 'is:')\n",
    "    ind, dist = min_dist(embeds[i], embeds)\n",
    "    print(labels[ind][1:])\n",
    "    print(dist[1:],'\\n')"
   ]
  },
  {
   "cell_type": "markdown",
   "metadata": {},
   "source": [
    "## Implementing FaceNet with triplet loss \n",
    "We will implement facenet with current embeddings. PCA gives an idea about layer width to preserve information."
   ]
  },
  {
   "cell_type": "code",
   "execution_count": 9,
   "metadata": {},
   "outputs": [
    {
     "data": {
      "text/plain": [
       "array([0.24855724, 0.37725544, 0.4705605 , 0.553531  , 0.61518043,\n",
       "       0.6530377 , 0.68954796, 0.7174542 , 0.74171257, 0.7629562 ,\n",
       "       0.78303903, 0.7992918 , 0.8131021 , 0.82601404, 0.8371496 ,\n",
       "       0.8476182 , 0.85763264, 0.86660075, 0.8754378 , 0.88370025,\n",
       "       0.89065534, 0.89678955, 0.90286124, 0.9088177 , 0.91432214,\n",
       "       0.9195686 , 0.9244414 , 0.9290511 , 0.9332284 , 0.9372436 ],\n",
       "      dtype=float32)"
      ]
     },
     "execution_count": 9,
     "metadata": {},
     "output_type": "execute_result"
    }
   ],
   "source": [
    "pca = PCA(n_components=30)\n",
    "pca.fit(embeds)\n",
    "np.cumsum(pca.explained_variance_ratio_)"
   ]
  },
  {
   "cell_type": "code",
   "execution_count": 10,
   "metadata": {},
   "outputs": [],
   "source": [
    "train_len = int(len(labels)*0.8)\n",
    "missing_in_test = set([1])\n",
    "# while loop is to ensure that test set has all its labels in train set\n",
    "while len(missing_in_test) != 0:\n",
    "    idx = np.random.permutation(len(labels))\n",
    "    train_idx = idx[:train_len]\n",
    "    test_idx = idx[train_len:]\n",
    "    \n",
    "    train_labels = num_labels[train_idx]\n",
    "    test_labels = num_labels[test_idx]\n",
    "    \n",
    "    train_embeds = embeds[train_idx]\n",
    "    test_embeds = embeds[test_idx]\n",
    "    \n",
    "    missing_in_test = set(test_labels) - set(train_labels)"
   ]
  },
  {
   "cell_type": "markdown",
   "metadata": {},
   "source": [
    "Create a balanced dataset for training by resampling:"
   ]
  },
  {
   "cell_type": "code",
   "execution_count": 11,
   "metadata": {},
   "outputs": [],
   "source": [
    "n_repeat = 50\n",
    "u_train_labels = np.unique(train_labels)\n",
    "\n",
    "train_embeds2 = np.zeros((n_repeat*len(u_train_labels), train_embeds.shape[1]))\n",
    "train_labels2 = np.zeros(n_repeat*len(u_train_labels), dtype=np.int32)\n",
    "for i,l in enumerate(u_train_labels):\n",
    "    idx = np.random.choice(np.where(train_labels==l)[0], n_repeat)\n",
    "    train_embeds2[i*n_repeat:(i+1)*n_repeat,:] = train_embeds[idx]\n",
    "    train_labels2[i*n_repeat:(i+1)*n_repeat] = train_labels[idx]\n",
    "idx = np.random.permutation(len(train_embeds2))\n",
    "train_embeds = train_embeds2[idx]\n",
    "train_labels = train_labels2[idx]"
   ]
  },
  {
   "cell_type": "code",
   "execution_count": 12,
   "metadata": {},
   "outputs": [
    {
     "name": "stderr",
     "output_type": "stream",
     "text": [
      "/Users/sachin/miniconda3/lib/python3.6/site-packages/tensorflow/python/ops/gradients_impl.py:97: UserWarning: Converting sparse IndexedSlices to a dense Tensor of unknown shape. This may consume a large amount of memory.\n",
      "  \"Converting sparse IndexedSlices to a dense Tensor of unknown shape. \"\n"
     ]
    }
   ],
   "source": [
    "tf.reset_default_graph()\n",
    "graph = tf.Graph()\n",
    "alpha = 0.3\n",
    "d = 128\n",
    "with graph.as_default():\n",
    "    xs = tf.placeholder(tf.float32, shape=(None, d))\n",
    "    a = tf.placeholder(tf.int32, shape=(None,))\n",
    "    p = tf.placeholder(tf.int32, shape=(None,))\n",
    "    n = tf.placeholder(tf.int32, shape=(None,))\n",
    "    \n",
    "    with tf.name_scope('mlp'):\n",
    "        h1 = tf.layers.dense(inputs=xs, units=15, activation=tf.nn.relu,\n",
    "                             name='h1')\n",
    "        out = tf.layers.dense(h1, units=15, name='out')\n",
    "    \n",
    "    # convert to unit length\n",
    "    len_out = tf.sqrt(tf.reduce_sum(tf.square(out), axis=-1, keepdims=True))\n",
    "    out = out / len_out\n",
    "    \n",
    "    out_a = tf.gather(out, a)\n",
    "    out_p = tf.gather(out, p)\n",
    "    out_n = tf.gather(out, n)\n",
    "    \n",
    "    # triplet loss\n",
    "    with tf.name_scope('loss'):\n",
    "        pos_dist = tf.reduce_sum(tf.square(out_a - out_p), axis=-1)\n",
    "        neg_dist = tf.reduce_sum(tf.square(out_a - out_n), axis=-1)\n",
    "        basic_loss = pos_dist - neg_dist + alpha\n",
    "        loss = tf.reduce_mean(tf.nn.relu(basic_loss))\n",
    "    \n",
    "    optimizer = tf.train.AdamOptimizer().minimize(loss)\n",
    "    "
   ]
  },
  {
   "cell_type": "code",
   "execution_count": 13,
   "metadata": {},
   "outputs": [],
   "source": [
    "def get_batch(embeds, start = 0, batch_size=64):\n",
    "    \"\"\"\n",
    "    Takes the starting position of anchors (and corresponding batchsize) to find positive examples and negative. \n",
    "    Positives are furthest ones away from anchor embeddings and negatives are closest to anchors.\n",
    "    Returns the indices of anchors, positive and negative exemplars.\n",
    "    \"\"\"\n",
    "    stop = start + batch_size\n",
    "    anchors = new_embeds[start:stop]\n",
    "    # cosine distance (not similarity)\n",
    "    dist = -new_embeds.dot(anchors.T)\n",
    "    pos_label = np.zeros(dist.shape[1], dtype=np.int32) - 1\n",
    "    neg_label = np.zeros(dist.shape[1], dtype=np.int32) - 1\n",
    "    invalids = []\n",
    "    for i in range(dist.shape[1]):\n",
    "        current_class = train_labels[start + i]\n",
    "        \n",
    "        pos_classes = np.where(train_labels==current_class)[0]\n",
    "        pos_label[i] = pos_classes[np.argmax(dist[pos_classes,i])]\n",
    "        neg_label[i] = np.random.choice(np.where(train_labels!=current_class)[0])\n",
    "#         min_dist = np.inf\n",
    "#         max_dist = -np.inf\n",
    "#         for j in range(dist.shape[0]):\n",
    "#             if i == j:\n",
    "#                 continue\n",
    "#             # find positives\n",
    "#             if train_labels[j] == current_class:\n",
    "#                 if dist[j, i] > max_dist:\n",
    "#                     max_dist = dist[j, i]\n",
    "#                     pos_label[i] = j\n",
    "#             else:\n",
    "#                 if dist[j, i] < min_dist:\n",
    "#                     min_dist = dist[j, i]\n",
    "#                     neg_label[i] = j\n",
    "        if pos_label[i] == -1 or neg_label[i] == -1:\n",
    "            invalids.append(i)\n",
    "\n",
    "    anchors = np.arange(start, start+i+1)\n",
    "    if invalids:\n",
    "        anchors = np.delete(anchors, invalids)\n",
    "        pos_label =  np.delete(pos_label, invalids)\n",
    "        neg_label = np.delete(neg_label, invalids)\n",
    "    \n",
    "    return anchors, pos_label, neg_label"
   ]
  },
  {
   "cell_type": "code",
   "execution_count": 14,
   "metadata": {},
   "outputs": [],
   "source": [
    "epochs = 5\n",
    "batch_size = 128\n",
    "losses = []\n",
    "with tf.Session(graph=graph) as session:\n",
    "    tf.global_variables_initializer().run()\n",
    "    for i in range(epochs):\n",
    "        for start in range(0, len(train_embeds), batch_size):\n",
    "            feed_dict = {xs: train_embeds}\n",
    "            new_embeds = session.run(out, feed_dict=feed_dict)\n",
    "            anchors, pos_label, neg_label = get_batch(new_embeds, start, \n",
    "                                                      batch_size)\n",
    "#             break\n",
    "            \n",
    "            feed_dict = {xs: train_embeds, \n",
    "                         a: anchors, \n",
    "                         p:pos_label, \n",
    "                         n:neg_label}\n",
    "            _, loss_ = session.run([optimizer, loss], feed_dict=feed_dict)\n",
    "            losses.append(loss_)\n",
    "            \n",
    "    \n",
    "    feed_dict = {xs: test_embeds}\n",
    "    new_test_embeds = session.run(out, feed_dict=feed_dict)\n",
    "    feed_dict = {xs: embeds}\n",
    "    final_embeds = session.run(out, feed_dict=feed_dict)"
   ]
  },
  {
   "cell_type": "code",
   "execution_count": 15,
   "metadata": {},
   "outputs": [
    {
     "data": {
      "image/png": "[encoded data removed]",
      "text/plain": [
       "<matplotlib.figure.Figure at 0x1a262ea208>"
      ]
     },
     "metadata": {},
     "output_type": "display_data"
    }
   ],
   "source": [
    "plt.plot(losses)\n",
    "plt.savefig('losses.png')\n",
    "plt.show()"
   ]
  },
  {
   "cell_type": "code",
   "execution_count": 16,
   "metadata": {},
   "outputs": [
    {
     "name": "stdout",
     "output_type": "stream",
     "text": [
      "Closest to Silvio_Berlusconi is:\n",
      "['George_HW_Bush', 'Alvaro_Uribe', 'Lucio_Gutierrez', 'Colin_Powell']\n",
      "[0.99992454 0.9998934  0.9998785  0.9998719 ] \n",
      "\n",
      "Closest to Anna_Kournikova is:\n",
      "['Mike_Weir', 'Carlos_Moya', 'Mike_Weir', 'Junichiro_Koizumi']\n",
      "[0.9991858  0.99898934 0.9989603  0.9987369 ] \n",
      "\n",
      "Closest to Colin_Powell is:\n",
      "['George_HW_Bush', 'Lance_Armstrong', 'Alejandro_Toledo', 'Luiz_Inacio_Lula_da_Silva']\n",
      "[0.99994236 0.99991304 0.9999124  0.99990904] \n",
      "\n",
      "Closest to Amelie_Mauresmo is:\n",
      "['Keanu_Reeves', 'Junichiro_Koizumi', 'Ian_Thorpe', 'Gloria_Macapagal_Arroyo']\n",
      "[0.99996334 0.999962   0.9999573  0.9999522 ] \n",
      "\n",
      "Closest to Pervez_Musharraf is:\n",
      "['Carlos_Menem', 'John_Ashcroft', 'Colin_Powell', 'Salma_Hayek']\n",
      "[0.9999846  0.999977   0.99995637 0.9999562 ] \n",
      "\n"
     ]
    }
   ],
   "source": [
    "for i in np.random.choice(len(test_labels), 5, replace=False):\n",
    "    print('Closest to', reverse_dict[test_labels[i]], 'is:')\n",
    "    ind, dist = min_dist(new_test_embeds[i], new_test_embeds)\n",
    "    print([reverse_dict[i] for i in test_labels[ind][1:]])\n",
    "    print(dist[1:],'\\n')"
   ]
  },
  {
   "cell_type": "code",
   "execution_count": 17,
   "metadata": {},
   "outputs": [
    {
     "name": "stdout",
     "output_type": "stream",
     "text": [
      "Closest to Junichiro_Koizumi is:\n",
      "['Tony_Blair' 'Tom_Ridge' 'Colin_Powell' 'Jean_Charest']\n",
      "[0.9999908  0.9999861  0.99998206 0.99997854] \n",
      "\n",
      "Closest to George_W_Bush is:\n",
      "['George_W_Bush' 'Junichiro_Koizumi' 'Jennifer_Capriati' 'Ariel_Sharon']\n",
      "[0.9999825  0.9999787  0.9999771  0.99997544] \n",
      "\n",
      "Closest to George_W_Bush is:\n",
      "['George_W_Bush' 'Colin_Powell' 'George_W_Bush' 'George_W_Bush']\n",
      "[0.999993   0.99998766 0.99998415 0.9999816 ] \n",
      "\n",
      "Closest to David_Beckham is:\n",
      "['Amelie_Mauresmo' 'Alvaro_Uribe' 'Mark_Philippoussis' 'George_W_Bush']\n",
      "[0.99997246 0.9999715  0.99997103 0.999969  ] \n",
      "\n",
      "Closest to Lleyton_Hewitt is:\n",
      "['Carlos_Moya' 'Spencer_Abraham' 'Alvaro_Uribe' 'Dominique_de_Villepin']\n",
      "[0.9999958  0.9999805  0.99997526 0.9999746 ] \n",
      "\n"
     ]
    }
   ],
   "source": [
    "for i in np.random.choice(len(labels), 5, replace=False):\n",
    "    print('Closest to', labels[i], 'is:')\n",
    "    ind, dist = min_dist(final_embeds[i], final_embeds)\n",
    "    print(labels[ind][1:])\n",
    "    print(dist[1:],'\\n')"
   ]
  },
  {
   "cell_type": "markdown",
   "metadata": {},
   "source": [
    "As can be seen below the algorithm has not worked. Even the furthest vector has a similarity of 0.99+"
   ]
  },
  {
   "cell_type": "code",
   "execution_count": 19,
   "metadata": {},
   "outputs": [
    {
     "data": {
      "text/plain": [
       "0.9972811"
      ]
     },
     "execution_count": 19,
     "metadata": {},
     "output_type": "execute_result"
    }
   ],
   "source": [
    "final_embeds.dot(final_embeds[i]).min()"
   ]
  },
  {
   "cell_type": "markdown",
   "metadata": {},
   "source": [
    "## Using KNN on original embeddings:"
   ]
  },
  {
   "cell_type": "code",
   "execution_count": 25,
   "metadata": {},
   "outputs": [],
   "source": [
    "from sklearn.neighbors import KNeighborsClassifier\n",
    "\n",
    "neigh = KNeighborsClassifier(n_neighbors=5)\n",
    "neigh.fit(train_embeds, train_labels) \n",
    "\n",
    "pred_labels = neigh.predict(test_embeds)"
   ]
  },
  {
   "cell_type": "markdown",
   "metadata": {},
   "source": [
    "KNN achieves higher accuracy than the more complicated Keras Model in other Jupyter Notebook"
   ]
  },
  {
   "cell_type": "code",
   "execution_count": 27,
   "metadata": {},
   "outputs": [
    {
     "data": {
      "text/plain": [
       "0.07745664739884393"
      ]
     },
     "execution_count": 27,
     "metadata": {},
     "output_type": "execute_result"
    }
   ],
   "source": [
    "np.sum(pred_labels == test_labels)/len(test_labels)"
   ]
  },
  {
   "cell_type": "code",
   "execution_count": 28,
   "metadata": {},
   "outputs": [
    {
     "data": {
      "image/png": "[encoded data removed]",
      "text/plain": [
       "<matplotlib.figure.Figure at 0x1a4904bac8>"
      ]
     },
     "metadata": {},
     "output_type": "display_data"
    }
   ],
   "source": [
    "plt.plot(losses)\n",
    "plt.savefig('losses.png')\n",
    "plt.show()"
   ]
  },
  {
   "cell_type": "code",
   "execution_count": null,
   "metadata": {},
   "outputs": [],
   "source": []
  }
 ],
 "metadata": {
  "kernelspec": {
   "display_name": "Python 3",
   "language": "python",
   "name": "python3"
  },
  "language_info": {
   "codemirror_mode": {
    "name": "ipython",
    "version": 3
   },
   "file_extension": ".py",
   "mimetype": "text/x-python",
   "name": "python",
   "nbconvert_exporter": "python",
   "pygments_lexer": "ipython3",
   "version": "3.6.3"
  }
 },
 "nbformat": 4,
 "nbformat_minor": 2
}
