{
 "cells": [
  {
   "cell_type": "code",
   "execution_count": 1,
   "metadata": {},
   "outputs": [
    {
     "name": "stderr",
     "output_type": "stream",
     "text": [
      "/Users/sachin/miniconda3/lib/python3.6/site-packages/h5py/__init__.py:36: FutureWarning: Conversion of the second argument of issubdtype from `float` to `np.floating` is deprecated. In future, it will be treated as `np.float64 == np.dtype(float).type`.\n",
      "  from ._conv import register_converters as _register_converters\n"
     ]
    }
   ],
   "source": [
    "import numpy as np\n",
    "import matplotlib.pyplot as plt\n",
    "from collections import Counter\n",
    "\n",
    "import cv2\n",
    "\n",
    "import tensorflow as tf\n",
    "from sklearn.decomposition import PCA\n",
    "from sklearn.preprocessing import StandardScaler\n",
    "\n",
    "import glob\n",
    "import os\n",
    "\n",
    "%matplotlib inline"
   ]
  },
  {
   "cell_type": "code",
   "execution_count": 2,
   "metadata": {},
   "outputs": [],
   "source": [
    "files = glob.glob('./data/**/*.npy')\n",
    "im_files = glob.glob('./data/**/*.png')\n",
    "labels = [f.split('/')[2] for f in files]\n",
    "\n",
    "u_labels = set(labels)\n",
    "label_dict = dict(zip(u_labels, range(len(u_labels))))\n",
    "reverse_dict = dict(zip(label_dict.values(), label_dict.keys()))\n",
    "num_labels = [label_dict[l] for l in labels]\n",
    "\n",
    "num_labels = np.array(num_labels)\n",
    "labels = np.array(labels)\n",
    "len_data = len(labels)"
   ]
  },
  {
   "cell_type": "code",
   "execution_count": 3,
   "metadata": {},
   "outputs": [],
   "source": [
    "images = np.zeros((len_data, 80, 80, 3), dtype=np.int32)\n",
    "for i, f in enumerate(im_files):\n",
    "    images[i] = cv2.resize(cv2.imread(f), (80, 80))"
   ]
  },
  {
   "cell_type": "markdown",
   "metadata": {},
   "source": [
    "Label imbalance:"
   ]
  },
  {
   "cell_type": "code",
   "execution_count": 4,
   "metadata": {},
   "outputs": [
    {
     "data": {
      "text/plain": [
       "[('George_W_Bush', 530),\n",
       " ('Colin_Powell', 236),\n",
       " ('Tony_Blair', 144),\n",
       " ('Donald_Rumsfeld', 121),\n",
       " ('Gerhard_Schroeder', 109),\n",
       " ('Ariel_Sharon', 77),\n",
       " ('Hugo_Chavez', 71),\n",
       " ('Junichiro_Koizumi', 60),\n",
       " ('Jean_Chretien', 55),\n",
       " ('John_Ashcroft', 53)]"
      ]
     },
     "execution_count": 4,
     "metadata": {},
     "output_type": "execute_result"
    }
   ],
   "source": [
    "top10 = Counter(labels).most_common()[:10]\n",
    "top10"
   ]
  },
  {
   "cell_type": "code",
   "execution_count": 5,
   "metadata": {},
   "outputs": [
    {
     "data": {
      "text/plain": [
       "(4324, 128)"
      ]
     },
     "execution_count": 5,
     "metadata": {},
     "output_type": "execute_result"
    }
   ],
   "source": [
    "embeds = []\n",
    "for f in files:\n",
    "    embeds.append(np.load(f))\n",
    "embeds = np.array(embeds)\n",
    "embeds.shape"
   ]
  },
  {
   "cell_type": "markdown",
   "metadata": {},
   "source": [
    "The embeds seem to be all unit vectors:"
   ]
  },
  {
   "cell_type": "code",
   "execution_count": 6,
   "metadata": {},
   "outputs": [
    {
     "data": {
      "text/plain": [
       "array([0.9999999 , 0.99999994, 1.        , ..., 1.0000001 , 1.        ,\n",
       "       1.        ], dtype=float32)"
      ]
     },
     "execution_count": 6,
     "metadata": {},
     "output_type": "execute_result"
    }
   ],
   "source": [
    "np.sum(np.square(embeds),axis=-1)"
   ]
  },
  {
   "cell_type": "markdown",
   "metadata": {},
   "source": [
    "## Using Cosine Distance to determine closest face:"
   ]
  },
  {
   "cell_type": "code",
   "execution_count": 7,
   "metadata": {},
   "outputs": [],
   "source": [
    "def min_dist(query, db, nlargest=5):\n",
    "    cosine_dist = db.dot(query)\n",
    "    ind = np.argpartition(cosine_dist, -nlargest)[-nlargest:]\n",
    "    ind = ind[np.argsort(-cosine_dist[ind])]\n",
    "    return ind, cosine_dist[ind]"
   ]
  },
  {
   "cell_type": "code",
   "execution_count": 8,
   "metadata": {},
   "outputs": [
    {
     "name": "stdout",
     "output_type": "stream",
     "text": [
      "Closest to Hugo_Chavez is:\n",
      "['Gerhard_Schroeder' 'Hugo_Chavez' 'Adrien_Brody' 'Bill_McBride']\n",
      "[0.9735214  0.97274005 0.9726215  0.97176164] \n",
      "\n",
      "Closest to Hillary_Clinton is:\n",
      "['Laura_Bush' 'Gerhard_Schroeder' 'Hugo_Chavez' 'Laura_Bush']\n",
      "[0.97384155 0.9707303  0.9704779  0.9702305 ] \n",
      "\n",
      "Closest to Jack_Straw is:\n",
      "['Donald_Rumsfeld' 'Colin_Powell' 'George_W_Bush' 'Howard_Dean']\n",
      "[0.9758383 0.9739548 0.973784  0.9730892] \n",
      "\n",
      "Closest to Tony_Blair is:\n",
      "['Colin_Powell' 'Tony_Blair' 'Trent_Lott' 'Colin_Powell']\n",
      "[0.97413075 0.9732443  0.9713545  0.9704548 ] \n",
      "\n",
      "Closest to Gerhard_Schroeder is:\n",
      "['Hugo_Chavez' 'Keanu_Reeves' 'Jose_Maria_Aznar' 'Gerhard_Schroeder']\n",
      "[0.9805705 0.9779444 0.9772387 0.9769714] \n",
      "\n"
     ]
    }
   ],
   "source": [
    "for i in np.random.choice(len(labels), 5, replace=False):\n",
    "    print('Closest to', labels[i], 'is:')\n",
    "    ind, dist = min_dist(embeds[i], embeds)\n",
    "    print(labels[ind][1:])\n",
    "    print(dist[1:],'\\n')"
   ]
  },
  {
   "cell_type": "markdown",
   "metadata": {},
   "source": [
    "## Implementing FaceNet with triplet loss \n",
    "We will implement facenet with current embeddings. PCA gives an idea about layer width to preserve information."
   ]
  },
  {
   "cell_type": "code",
   "execution_count": 9,
   "metadata": {},
   "outputs": [
    {
     "data": {
      "text/plain": [
       "array([0.24855697, 0.37725508, 0.4705602 , 0.5535307 , 0.61517996,\n",
       "       0.65303725, 0.6895475 , 0.7174537 , 0.74171203, 0.7629557 ,\n",
       "       0.78303856, 0.7992914 , 0.8131017 , 0.8260136 , 0.8371492 ,\n",
       "       0.8476178 , 0.8576322 , 0.8666004 , 0.8754376 , 0.8837001 ,\n",
       "       0.89065534, 0.89678925, 0.9028618 , 0.9088181 , 0.9143214 ,\n",
       "       0.9195691 , 0.92445004, 0.92906505, 0.9332311 , 0.9372343 ],\n",
       "      dtype=float32)"
      ]
     },
     "execution_count": 9,
     "metadata": {},
     "output_type": "execute_result"
    }
   ],
   "source": [
    "pca = PCA(n_components=30)\n",
    "pca.fit(embeds)\n",
    "np.cumsum(pca.explained_variance_ratio_)"
   ]
  },
  {
   "cell_type": "code",
   "execution_count": 10,
   "metadata": {},
   "outputs": [],
   "source": [
    "train_len = int(len(labels)*0.8)\n",
    "missing_in_test = set([1])\n",
    "# while loop is to ensure that test set has all its labels in train set\n",
    "while len(missing_in_test) != 0:\n",
    "    idx = np.random.permutation(len(labels))\n",
    "    train_idx = idx[:train_len]\n",
    "    test_idx = idx[train_len:]\n",
    "    \n",
    "    train_labels = num_labels[train_idx]\n",
    "    test_labels = num_labels[test_idx]\n",
    "    \n",
    "    train_embeds = embeds[train_idx]\n",
    "    test_embeds = embeds[test_idx]\n",
    "    \n",
    "    missing_in_test = set(test_labels) - set(train_labels)"
   ]
  },
  {
   "cell_type": "markdown",
   "metadata": {},
   "source": [
    "Create a balanced dataset for training by resampling:"
   ]
  },
  {
   "cell_type": "code",
   "execution_count": 11,
   "metadata": {},
   "outputs": [],
   "source": [
    "n_repeat = 50\n",
    "u_train_labels = np.unique(train_labels)\n",
    "\n",
    "train_embeds2 = np.zeros((n_repeat*len(u_train_labels), train_embeds.shape[1]))\n",
    "train_labels2 = np.zeros(n_repeat*len(u_train_labels), dtype=np.int32)\n",
    "for i,l in enumerate(u_train_labels):\n",
    "    idx = np.random.choice(np.where(train_labels==l)[0], n_repeat)\n",
    "    train_embeds2[i*n_repeat:(i+1)*n_repeat,:] = train_embeds[idx]\n",
    "    train_labels2[i*n_repeat:(i+1)*n_repeat] = train_labels[idx]\n",
    "idx = np.random.permutation(len(train_embeds2))\n",
    "train_embeds = train_embeds2[idx]\n",
    "train_labels = train_labels2[idx]"
   ]
  },
  {
   "cell_type": "code",
   "execution_count": 12,
   "metadata": {},
   "outputs": [],
   "source": [
    "x_scaler = StandardScaler()\n",
    "train_embeds = x_scaler.fit_transform(train_embeds)\n",
    "test_embeds = x_scaler.transform(test_embeds)"
   ]
  },
  {
   "cell_type": "code",
   "execution_count": 13,
   "metadata": {},
   "outputs": [
    {
     "name": "stderr",
     "output_type": "stream",
     "text": [
      "/Users/sachin/miniconda3/lib/python3.6/site-packages/tensorflow/python/ops/gradients_impl.py:97: UserWarning: Converting sparse IndexedSlices to a dense Tensor of unknown shape. This may consume a large amount of memory.\n",
      "  \"Converting sparse IndexedSlices to a dense Tensor of unknown shape. \"\n"
     ]
    }
   ],
   "source": [
    "tf.reset_default_graph()\n",
    "graph = tf.Graph()\n",
    "alpha = 0.3\n",
    "d = 128\n",
    "with graph.as_default():\n",
    "    xs = tf.placeholder(tf.float32, shape=(None, d))\n",
    "    a = tf.placeholder(tf.int32, shape=(None,))\n",
    "    p = tf.placeholder(tf.int32, shape=(None,))\n",
    "    n = tf.placeholder(tf.int32, shape=(None,))\n",
    "    \n",
    "    with tf.name_scope('mlp'):\n",
    "        h1 = tf.layers.dense(inputs=xs, units=15, activation=tf.nn.relu,\n",
    "                             name='h1')\n",
    "        out = tf.layers.dense(h1, units=15, name='out')\n",
    "    \n",
    "    # convert to unit length\n",
    "    len_out = tf.sqrt(tf.reduce_sum(tf.square(out), axis=-1, keepdims=True))\n",
    "    out = out / len_out\n",
    "    \n",
    "    out_a = tf.gather(out, a)\n",
    "    out_p = tf.gather(out, p)\n",
    "    out_n = tf.gather(out, n)\n",
    "    \n",
    "    # triplet loss\n",
    "    with tf.name_scope('loss'):\n",
    "        pos_dist = tf.reduce_sum(tf.square(out_a - out_p), axis=-1)\n",
    "        neg_dist = tf.reduce_sum(tf.square(out_a - out_n), axis=-1)\n",
    "        basic_loss = pos_dist - neg_dist + alpha\n",
    "        loss = tf.reduce_mean(tf.nn.relu(basic_loss))\n",
    "    \n",
    "    optimizer = tf.train.AdamOptimizer().minimize(loss)\n",
    "    "
   ]
  },
  {
   "cell_type": "code",
   "execution_count": 14,
   "metadata": {},
   "outputs": [],
   "source": [
    "def get_batch(embeds, start = 0, batch_size=64):\n",
    "    \"\"\"\n",
    "    Takes the starting position of anchors (and corresponding batchsize) to find positive examples and negative. \n",
    "    Positives are furthest ones away from anchor embeddings and negatives are closest to anchors.\n",
    "    Returns the indices of anchors, positive and negative exemplars.\n",
    "    \"\"\"\n",
    "    stop = start + batch_size\n",
    "    anchors = new_embeds[start:stop]\n",
    "    # cosine distance (not similarity)\n",
    "    dist = -new_embeds.dot(anchors.T)\n",
    "    pos_label = np.zeros(dist.shape[1], dtype=np.int32) - 1\n",
    "    neg_label = np.zeros(dist.shape[1], dtype=np.int32) - 1\n",
    "    invalids = []\n",
    "    for i in range(dist.shape[1]):\n",
    "        current_class = train_labels[start + i]\n",
    "        \n",
    "        pos_classes = np.where(train_labels==current_class)[0]\n",
    "        pos_label[i] = pos_classes[np.argmax(dist[pos_classes,i])]\n",
    "        neg_label[i] = np.random.choice(np.where(train_labels!=current_class)[0])\n",
    "#         min_dist = np.inf\n",
    "#         max_dist = -np.inf\n",
    "#         for j in range(dist.shape[0]):\n",
    "#             if i == j:\n",
    "#                 continue\n",
    "#             # find positives\n",
    "#             if train_labels[j] == current_class:\n",
    "#                 if dist[j, i] > max_dist:\n",
    "#                     max_dist = dist[j, i]\n",
    "#                     pos_label[i] = j\n",
    "#             else:\n",
    "#                 if dist[j, i] < min_dist:\n",
    "#                     min_dist = dist[j, i]\n",
    "#                     neg_label[i] = j\n",
    "        if pos_label[i] == -1 or neg_label[i] == -1:\n",
    "            invalids.append(i)\n",
    "\n",
    "    anchors = np.arange(start, start+i+1)\n",
    "    if invalids:\n",
    "        anchors = np.delete(anchors, invalids)\n",
    "        pos_label =  np.delete(pos_label, invalids)\n",
    "        neg_label = np.delete(neg_label, invalids)\n",
    "    \n",
    "    return anchors, pos_label, neg_label"
   ]
  },
  {
   "cell_type": "code",
   "execution_count": 15,
   "metadata": {},
   "outputs": [],
   "source": [
    "epochs = 10\n",
    "batch_size = 128\n",
    "losses = []\n",
    "with tf.Session(graph=graph) as session:\n",
    "    tf.global_variables_initializer().run()\n",
    "    for i in range(epochs):\n",
    "        for start in range(0, len(train_embeds), batch_size):\n",
    "            feed_dict = {xs: train_embeds}\n",
    "            new_embeds = session.run(out, feed_dict=feed_dict)\n",
    "            anchors, pos_label, neg_label = get_batch(new_embeds, start, \n",
    "                                                      batch_size)\n",
    "#             break\n",
    "            \n",
    "            feed_dict = {xs: train_embeds, \n",
    "                         a: anchors, \n",
    "                         p:pos_label, \n",
    "                         n:neg_label}\n",
    "            _, loss_ = session.run([optimizer, loss], feed_dict=feed_dict)\n",
    "            losses.append(loss_)\n",
    "            \n",
    "    \n",
    "    feed_dict = {xs: test_embeds}\n",
    "    new_test_embeds = session.run(out, feed_dict=feed_dict)\n",
    "    feed_dict = {xs: embeds}\n",
    "    final_embeds = session.run(out, feed_dict=feed_dict)"
   ]
  },
  {
   "cell_type": "code",
   "execution_count": 16,
   "metadata": {},
   "outputs": [
    {
     "data": {
      "image/png": "[encoded data removed]",
      "text/plain": [
       "<matplotlib.figure.Figure at 0x1a327bcb70>"
      ]
     },
     "metadata": {},
     "output_type": "display_data"
    }
   ],
   "source": [
    "plt.plot(losses)\n",
    "plt.savefig('losses.png')\n",
    "plt.show()"
   ]
  },
  {
   "cell_type": "code",
   "execution_count": 17,
   "metadata": {},
   "outputs": [
    {
     "name": "stdout",
     "output_type": "stream",
     "text": [
      "Closest to Lindsay_Davenport is:\n",
      "['Alejandro_Toledo', 'Jennifer_Garner', 'Jose_Maria_Aznar', 'Tim_Henman']\n",
      "[0.980266   0.97844666 0.9638734  0.960642  ] \n",
      "\n",
      "Closest to Donald_Rumsfeld is:\n",
      "['Hillary_Clinton', 'Gloria_Macapagal_Arroyo', 'Lleyton_Hewitt', 'Naomi_Watts']\n",
      "[0.99121505 0.98923516 0.98859507 0.9883354 ] \n",
      "\n",
      "Closest to Colin_Powell is:\n",
      "['Junichiro_Koizumi', 'Jacques_Rogge', 'Condoleezza_Rice', 'Colin_Powell']\n",
      "[0.99445724 0.9944418  0.9928882  0.99202913] \n",
      "\n",
      "Closest to Jack_Straw is:\n",
      "['David_Beckham', 'Hamid_Karzai', 'Jack_Straw', 'Vladimir_Putin']\n",
      "[0.9969831 0.9953164 0.9952843 0.99514  ] \n",
      "\n",
      "Closest to John_Paul_II is:\n",
      "['George_W_Bush', 'Gray_Davis', 'Luiz_Inacio_Lula_da_Silva', 'George_W_Bush']\n",
      "[0.9945506  0.994079   0.9932676  0.99190307] \n",
      "\n"
     ]
    }
   ],
   "source": [
    "for i in np.random.choice(len(test_labels), 5, replace=False):\n",
    "    print('Closest to', reverse_dict[test_labels[i]], 'is:')\n",
    "    ind, dist = min_dist(new_test_embeds[i], new_test_embeds)\n",
    "    print([reverse_dict[i] for i in test_labels[ind][1:]])\n",
    "    print(dist[1:],'\\n')"
   ]
  },
  {
   "cell_type": "code",
   "execution_count": 18,
   "metadata": {},
   "outputs": [
    {
     "name": "stdout",
     "output_type": "stream",
     "text": [
      "Closest to Keanu_Reeves is:\n",
      "['Paradorn_Srichaphan' 'Salma_Hayek' 'Gerhard_Schroeder' 'Sergey_Lavrov']\n",
      "[0.99993956 0.9998925  0.99989116 0.9998869 ] \n",
      "\n",
      "Closest to Tony_Blair is:\n",
      "['Gloria_Macapagal_Arroyo' 'Salma_Hayek' 'Jose_Maria_Aznar'\n",
      " 'Gloria_Macapagal_Arroyo']\n",
      "[0.9999182  0.9999097  0.9999022  0.99989665] \n",
      "\n",
      "Closest to Gerhard_Schroeder is:\n",
      "['Gerhard_Schroeder' 'Spencer_Abraham' 'Alejandro_Toledo'\n",
      " 'Gerhard_Schroeder']\n",
      "[0.9999023  0.999899   0.9998952  0.99989116] \n",
      "\n",
      "Closest to Colin_Powell is:\n",
      "['Colin_Powell' 'Mahmoud_Abbas' 'Tom_Daschle' 'Colin_Powell']\n",
      "[0.99992126 0.9999131  0.99991155 0.9999111 ] \n",
      "\n",
      "Closest to John_Negroponte is:\n",
      "['Jennifer_Lopez' 'Meryl_Streep' 'Donald_Rumsfeld' 'Jennifer_Lopez']\n",
      "[0.99994653 0.99994564 0.9999399  0.99993503] \n",
      "\n"
     ]
    }
   ],
   "source": [
    "for i in np.random.choice(len(labels), 5, replace=False):\n",
    "    print('Closest to', labels[i], 'is:')\n",
    "    ind, dist = min_dist(final_embeds[i], final_embeds)\n",
    "    print(labels[ind][1:])\n",
    "    print(dist[1:],'\\n')"
   ]
  },
  {
   "cell_type": "markdown",
   "metadata": {},
   "source": [
    "As can be seen below the algorithm has not worked. Even the furthest vector has a similarity of 0.99+"
   ]
  },
  {
   "cell_type": "code",
   "execution_count": 19,
   "metadata": {},
   "outputs": [
    {
     "data": {
      "text/plain": [
       "0.99514586"
      ]
     },
     "execution_count": 19,
     "metadata": {},
     "output_type": "execute_result"
    }
   ],
   "source": [
    "final_embeds.dot(final_embeds[i]).min()"
   ]
  },
  {
   "cell_type": "markdown",
   "metadata": {},
   "source": [
    "## Using KNN on original embeddings:"
   ]
  },
  {
   "cell_type": "code",
   "execution_count": 20,
   "metadata": {},
   "outputs": [],
   "source": [
    "from sklearn.neighbors import KNeighborsClassifier\n",
    "\n",
    "train_embeds = x_scaler.inverse_transform(train_embeds)\n",
    "test_embeds = x_scaler.inverse_transform(test_embeds)\n",
    "neigh = KNeighborsClassifier(n_neighbors=5)\n",
    "neigh.fit(train_embeds, train_labels) \n",
    "\n",
    "pred_labels = neigh.predict(test_embeds)"
   ]
  },
  {
   "cell_type": "markdown",
   "metadata": {},
   "source": [
    "KNN achieves higher accuracy than the more complicated Keras Model in other Jupyter Notebook"
   ]
  },
  {
   "cell_type": "code",
   "execution_count": 21,
   "metadata": {},
   "outputs": [
    {
     "data": {
      "text/plain": [
       "0.07052023121387284"
      ]
     },
     "execution_count": 21,
     "metadata": {},
     "output_type": "execute_result"
    }
   ],
   "source": [
    "np.sum(pred_labels == test_labels)/len(test_labels)"
   ]
  },
  {
   "cell_type": "code",
   "execution_count": null,
   "metadata": {},
   "outputs": [],
   "source": []
  }
 ],
 "metadata": {
  "kernelspec": {
   "display_name": "Python 3",
   "language": "python",
   "name": "python3"
  },
  "language_info": {
   "codemirror_mode": {
    "name": "ipython",
    "version": 3
   },
   "file_extension": ".py",
   "mimetype": "text/x-python",
   "name": "python",
   "nbconvert_exporter": "python",
   "pygments_lexer": "ipython3",
   "version": "3.6.3"
  }
 },
 "nbformat": 4,
 "nbformat_minor": 2
}
